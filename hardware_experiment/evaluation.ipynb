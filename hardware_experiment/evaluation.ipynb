{
 "cells": [
  {
   "cell_type": "markdown",
   "id": "64b7fb3b",
   "metadata": {},
   "source": [
    "# Results Analysis"
   ]
  },
  {
   "cell_type": "markdown",
   "id": "abf5903c",
   "metadata": {},
   "source": [
    "You can run the codes below to analyze the accuracy of attitude determination results.  \n"
   ]
  },
  {
   "cell_type": "code",
   "execution_count": 1,
   "id": "43804442",
   "metadata": {},
   "outputs": [],
   "source": [
    "import matplotlib.pyplot as plt\n",
    "import numpy as np\n"
   ]
  },
  {
   "cell_type": "code",
   "execution_count": 2,
   "id": "acdd7a0b",
   "metadata": {},
   "outputs": [],
   "source": [
    "# outliers remover\n",
    "# https://stackoverflow.com/questions/11686720/is-there-a-numpy-builtin-to-reject-outliers-from-a-list\n",
    "def reject_outliers(data, m=2):\n",
    "    indices = np.nonzero(abs(data - np.mean(data)) < m * np.std(data))\n",
    "    return indices"
   ]
  },
  {
   "cell_type": "code",
   "execution_count": 3,
   "id": "c50f9ed4",
   "metadata": {},
   "outputs": [],
   "source": [
    "def plot_euler_angles_outliers(attitude, fig_num, m=2, axis='y', xaxis='Image Number', title='Title', ifylabel = True):\n",
    "    \"\"\"\n",
    "        @param m: for outliers remover\n",
    "        @return Declination, Roll\n",
    "    \"\"\"\n",
    "\n",
    "    if xaxis == 'Time (Seconds)':\n",
    "        time_stamp = attitude[:,0] - attitude[0,0]\n",
    "    else:\n",
    "        time_stamp = attitude[:,0]\n",
    "    euler_z = attitude[:,1]\n",
    "    euler_y = attitude[:,2]\n",
    "    euler_x = attitude[:,3]\n",
    "\n",
    "    if axis == 'z':\n",
    "        keep_indices = reject_outliers(euler_z, m)\n",
    "    elif axis == 'y':\n",
    "        keep_indices = reject_outliers(euler_y, m)\n",
    "    elif axis == 'x':\n",
    "        keep_indices = reject_outliers(euler_x, m)\n",
    "    else:\n",
    "        print('Wrong Outlier Removing Axis')\n",
    "        return 0, 0\n",
    "\n",
    "    plt.figure(num = fig_num, figsize = (3,6)) \n",
    "\n",
    "    ax = plt.subplot(3,1,1)\n",
    "    plt.title(title, fontsize = 12, weight='bold')\n",
    "    plt.scatter(time_stamp[keep_indices], euler_z[keep_indices], 2, alpha = 1, color='r')\n",
    "    if ifylabel:\n",
    "        plt.ylabel('Right Ascension (deg)', fontsize = 10, weight='bold')\n",
    "    plt.grid(True, color='k', linestyle=':')\n",
    "    ax.ticklabel_format(useOffset=False, style='plain') # turn off scientific notation\n",
    "\n",
    "\n",
    "    ax = plt.subplot(3,1,2)\n",
    "    plt.scatter(time_stamp[keep_indices], euler_y[keep_indices], 2, alpha = 1, color='g')\n",
    "    if ifylabel:\n",
    "        plt.ylabel('Declination (deg)', fontsize = 10, weight='bold')\n",
    "    plt.grid(True, color='k', linestyle=':')\n",
    "    ax.ticklabel_format(useOffset=False, style='plain') # turn off scientific notation\n",
    "\n",
    "    ax = plt.subplot(3,1,3)\n",
    "    plt.scatter(time_stamp[keep_indices], euler_x[keep_indices], 2, alpha = 1, color='b')\n",
    "    if ifylabel:\n",
    "        plt.ylabel('Roll (deg)', fontsize = 10, weight='bold')\n",
    "    plt.xlabel(xaxis, fontsize = 10, weight='bold')\n",
    "    plt.grid(True, color='k', linestyle=':')\n",
    "    ax.ticklabel_format(useOffset=False, style='plain') # turn off scientific notation\n",
    "\n",
    "    plt.show()   \n",
    "\n",
    "    return euler_y[keep_indices], euler_x[keep_indices]"
   ]
  },
  {
   "cell_type": "code",
   "execution_count": null,
   "id": "eac8e8b0",
   "metadata": {},
   "outputs": [],
   "source": [
    "attitude = np.load('./saved_results/attitude_NN_673.npy') \n",
    "Dec, Roll = plot_euler_angles_outliers(attitude, 1, m=10, axis = 'y', title='Star Tracker Attitude', ifylabel=True)\n",
    "\n",
    "print(f'standard deviation Declination = {np.std(Dec)*3600} arcsec')\n",
    "print(f'standard deviation Roll = {np.std(Roll)*3600} arcsec')\n"
   ]
  }
 ],
 "metadata": {
  "kernelspec": {
   "display_name": "CNNStarDetectCentroid",
   "language": "python",
   "name": "python3"
  },
  "language_info": {
   "codemirror_mode": {
    "name": "ipython",
    "version": 3
   },
   "file_extension": ".py",
   "mimetype": "text/x-python",
   "name": "python",
   "nbconvert_exporter": "python",
   "pygments_lexer": "ipython3",
   "version": "3.8.20"
  }
 },
 "nbformat": 4,
 "nbformat_minor": 5
}
