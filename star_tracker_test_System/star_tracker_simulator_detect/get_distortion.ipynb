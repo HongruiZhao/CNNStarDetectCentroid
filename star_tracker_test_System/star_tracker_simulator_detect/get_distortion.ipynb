{
 "cells": [
  {
   "cell_type": "code",
   "execution_count": 1,
   "metadata": {},
   "outputs": [
    {
     "name": "stdout",
     "output_type": "stream",
     "text": [
      "[ 4.72251629e-06 -1.47548083e-11  5.40718521e-10  3.15303463e-10\n",
      " -1.47546930e-11  1.26044011e-15 -2.20571693e-14  4.72252718e-06]\n"
     ]
    }
   ],
   "source": [
    "import numpy\n",
    "import matplotlib.pyplot as plt\n",
    "import math\n",
    "\n",
    "# night sky test March 11 Matlab Cal\n",
    "fc = [ 2676.58131,   2683.51694 ] # in pixels \n",
    "cc = [ 352.84399,   199.46077 ] # in pixels\n",
    "kc = [ 0.23801,   6.40623,   -0.00699,   -0.00156,  0.00000 ]\n",
    "\n",
    "# get parameters \n",
    "u_0 = cc[0]\n",
    "v_0 = cc[1]\n",
    "f = (fc[0] + fc[1]) / 2\n",
    "k_1 = kc[0] / f**3\n",
    "k_2 = kc[1] / f**5\n",
    "p_1 = kc[2] / f**2\n",
    "p_2 = kc[3] / f**2\n",
    "\n",
    "\n",
    "height = 480 # height of the image sensor, pixels, (MT9V022)\n",
    "width = 640 # width of the image sensor, pixels, (MT9V022)    \n",
    "\n",
    "T = []\n",
    "e = []\n",
    "\n",
    "for current_row in range(height):\n",
    "    for current_col in range(width):\n",
    "\n",
    "        # coordinate of a pixel on the undistorted image, in pixels, U'V' frame  \n",
    "        u_u = (current_col + 0.5) - u_0\n",
    "        v_u = (current_row + 0.5) - v_0\n",
    "\n",
    "        ## forware mapping to distorted coordinate ##\n",
    "        r = math.sqrt( u_u**2 + v_u**2 )\n",
    "\n",
    "        # raidial distortion \n",
    "        delta_u_r = u_u * (k_1 * r**2 + k_2 * r**4 )\n",
    "        delta_v_r = v_u * (k_1 * r**2 + k_2 * r**4 )\n",
    "        \n",
    "        # tangentail distortion\n",
    "        delta_u_t = 2*p_1*u_u*v_u + p_2*(r**2 + 2*u_u**2)\n",
    "        delta_v_t = 2*p_2*u_u*v_u + p_1*(r**2 + 2*v_u**2)\n",
    "\n",
    "        # get corresponding point on the distorted image under U'V' frame (in pixels)\n",
    "        u_d = u_u + delta_u_r + delta_u_t\n",
    "        v_d = v_u + delta_v_r + delta_v_t\n",
    "\n",
    "        # get e \n",
    "        e_i_u = u_d - u_u\n",
    "        e.append(e_i_u)\n",
    "        e_i_v = v_d - v_u\n",
    "        e.append(e_i_v)\n",
    "\n",
    "        # get u_i and v_i \n",
    "        r_i = math.sqrt( u_d**2 + v_d**2 )\n",
    "        u_i = numpy.array([ -u_d*r_i**2, -u_d*r_i**4, -2*u_d*v_d, -(r_i**2+2*u_d**2), u_u*r_i**4, u_u*u_d*r_i**2, u_u*v_d*r_i**2, u_u*r_i**2 ])\n",
    "        T.append(u_i)\n",
    "        v_i = numpy.array([ -v_d*r_i**2, -v_d*r_i**4, -(r_i**2+2*u_d**2), -2*u_d*v_d, v_u*r_i**4, v_u*u_d*r_i**2, v_u*v_d*r_i**2, v_u*r_i**2 ])\n",
    "        T.append(v_i)\n",
    "\n",
    "\n",
    "# apply least square \n",
    "T_t = numpy.transpose(T) \n",
    "p = numpy.linalg.inv( T_t @ T) @ T_t @ e\n",
    "\n",
    "a_1 = p[0]\n",
    "a_2 = p[1]\n",
    "a_3 = p[2]\n",
    "a_4 = p[3]\n",
    "a_5 = p[4]\n",
    "a_6 = p[5]\n",
    "a_7 = p[6]\n",
    "a_8 = p[7]"
   ]
  },
  {
   "cell_type": "code",
   "execution_count": 5,
   "metadata": {},
   "outputs": [
    {
     "name": "stdout",
     "output_type": "stream",
     "text": [
      "f = 2680.049125\n",
      "u0 = 352.84399\n",
      "v0 = 199.46077\n",
      "distortion: [ 4.72251629e-06 -1.47548083e-11  5.40718521e-10  3.15303463e-10\n",
      " -1.47546930e-11  1.26044011e-15 -2.20571693e-14  4.72252718e-06]\n"
     ]
    }
   ],
   "source": [
    "print(f'f = {f}')\n",
    "print(f'u0 = {u_0}')\n",
    "print(f'v0 = {v_0}')\n",
    "print(f'distortion: {p}')"
   ]
  },
  {
   "cell_type": "code",
   "execution_count": 3,
   "metadata": {},
   "outputs": [
    {
     "data": {
      "image/png": "[encoded data removed]",
      "text/plain": [
       "<Figure size 314.961x236.22 with 2 Axes>"
      ]
     },
     "metadata": {},
     "output_type": "display_data"
    }
   ],
   "source": [
    "# verify error \n",
    "error_matrix = numpy.zeros(( height, width ))\n",
    "\n",
    "for current_row in range(height):\n",
    "    for current_col in range(width):\n",
    "\n",
    "        # coordinate of a pixel on the distorted image, in pixels, U'V' frame  \n",
    "        u_d = (current_col + 0.5) - u_0\n",
    "        v_d = (current_row + 0.5) - v_0\n",
    "        \n",
    "        ## apply polynomial approximation ## \n",
    "        r = math.sqrt( u_d**2 + v_d**2 )\n",
    "        G = (a_5*r**2 + a_6*u_d + a_7*v_d + a_8)*r**2 + 1\n",
    "        u_u = (1/G) * ( u_d + u_d*(a_1*r**2 + a_2*r**4) + 2*a_3*u_d*v_d + a_4*(r**2+2*u_d**2) )\n",
    "        v_u = (1/G) * ( v_d + v_d*(a_1*r**2 + a_2*r**4) + a_3*(r**2+2*v_d**2) + 2*a_4*u_d*v_d )\n",
    "\n",
    "        ## forware mapping to map back to distorted coordinate ##\n",
    "        r = math.sqrt( u_u**2 + v_u**2 )\n",
    "\n",
    "        # raidial distortion \n",
    "        delta_u_r = u_u * (k_1 * r**2 + k_2 * r**4 )\n",
    "        delta_v_r = v_u * (k_1 * r**2 + k_2 * r**4 )\n",
    "        \n",
    "        # tangentail distortion\n",
    "        delta_u_t = 2*p_1*u_u*v_u + p_2*(r**2 + 2*u_u**2)\n",
    "        delta_v_t = 2*p_2*u_u*v_u + p_1*(r**2 + 2*v_u**2)\n",
    "\n",
    "        # get corresponding point on the distorted image under U'V' frame \n",
    "        u_d_e = u_u + delta_u_r + delta_u_t\n",
    "        v_d_e = v_u + delta_v_r + delta_v_t\n",
    "        \n",
    "        # get residual error \n",
    "        error = math.sqrt( (u_d-u_d_e)**2 + (v_d-v_d_e)**2 )\n",
    "        error_matrix[current_row, current_col] = error\n",
    "\n",
    "plt.figure(num = 1, figsize = (3.1496063,2.36220472))  # 8cm and 6 cm\n",
    "plt.imshow(error_matrix, cmap='cool', interpolation='none', origin='lower')\n",
    "plt.colorbar()\n",
    "plt.savefig('poly.png',dpi = 200, bbox_inches = 'tight') # high dpi, 'tight\" to make sure complete pic\n",
    "plt.show()\n"
   ]
  }
 ],
 "metadata": {
  "kernelspec": {
   "display_name": "ML",
   "language": "python",
   "name": "python3"
  },
  "language_info": {
   "codemirror_mode": {
    "name": "ipython",
    "version": 3
   },
   "file_extension": ".py",
   "mimetype": "text/x-python",
   "name": "python",
   "nbconvert_exporter": "python",
   "pygments_lexer": "ipython3",
   "version": "3.11.5"
  }
 },
 "nbformat": 4,
 "nbformat_minor": 2
}
