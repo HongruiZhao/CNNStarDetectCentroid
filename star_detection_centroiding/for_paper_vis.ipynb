{
 "cells": [
  {
   "cell_type": "code",
   "execution_count": 2,
   "metadata": {},
   "outputs": [],
   "source": [
    "import torch\n",
    "import numpy as np\n",
    "import matplotlib.pyplot as plt\n",
    "from matplotlib import colors\n",
    "from evaluation import trilateration_centroid, compute_centroid_error, trilateration_centroid_vectorization\n",
    "from visualization import draw_centroids\n",
    "from torchvision.transforms import Normalize\n",
    "import cv2\n",
    "from conventional_centroiding.threshold_method import centroid_com, detection_globalThreshold, centroiding_CenterOfMass, detection_ST16, centroiding_GaussianGrid, detection_WITM, detection_erosion_dilation\n",
    "\n",
    "import sys\n",
    "\n",
    "device = torch.device(\"cuda:0\")\n",
    "pixel_size = 6/1000\n",
    "radius = 7\n",
    "\n",
    "img_np = np.load('nightsky_june16_2021.npy' )\n",
    "#img_np = cv2.imread('skycam/skycam_1.png', cv2.IMREAD_GRAYSCALE)\n",
    "center = img_np.shape \n",
    "h = 480\n",
    "w = 640\n",
    "x = int(center[1]/2 - w/2)\n",
    "y = int(center[0]/2 - h/2) \n",
    "img_np = img_np[y:y+h, x:x+w]\n",
    "\n",
    "# # for data_straylight\n",
    "# mean = [44.1619381]\n",
    "# std =  [60.98225565]\n",
    "\n",
    "# for data_Oct19\n",
    "mean = [25.36114133]\n",
    "std =  [44.31162568]\n",
    "\n",
    "img = torch.from_numpy(img_np).float()\n",
    "img = img.to(device)\n",
    "img = img.unsqueeze(0)\n",
    "img = img.unsqueeze(0)\n",
    "\n",
    "# get predictions\n",
    "#model = torch.load(\"./saved_models/ELUNet_inter_1.pt\")\n",
    "model = torch.load(\"./saved_models/2023_models/ELUNet_inter_2_90.pt\")\n",
    "model.eval()\n",
    "\n",
    "prediction = model(Normalize(mean, std)(img)) # only normalize images for neural network so that conventional centroid can use raw images\n",
    "seg_prediction = 1.0 * (torch.sigmoid(prediction[0][0]) > 0.5)\n",
    "seg_prediction = seg_prediction.detach().cpu().numpy()\n",
    "dist_prediction = prediction[0][1]\n",
    "dist_prediction = dist_prediction.detach().cpu().numpy()\n",
    "\n",
    "img = img[0][0].detach().cpu().numpy()\n",
    "\n",
    "# get estimated centroids: machine learning \n",
    "centroid_est = trilateration_centroid(dist_prediction.copy(), seg_prediction.copy(), radius, pixel_size)\n",
    "\n",
    "\n",
    "# conventional method\n",
    "mask = detection_erosion_dilation(img.copy(), gaussian_sigma=2, average_window_size=10, detection_sigma=5)\n",
    "#mask = detection_ST16(img.copy(), threshold=1.5, pixel_area=6, pixel_sum=50)\n",
    "#centroid_est_2 = centroiding_CenterOfMass(img.copy(), mask, 5)\n",
    "centroid_est_2 = centroiding_GaussianGrid(img.copy(), mask)\n",
    "\n",
    "\n"
   ]
  },
  {
   "cell_type": "code",
   "execution_count": 3,
   "metadata": {},
   "outputs": [
    {
     "data": {
      "image/png": "[encoded data removed]",
      "text/plain": [
       "<Figure size 640x480 with 1 Axes>"
      ]
     },
     "metadata": {},
     "output_type": "display_data"
    }
   ],
   "source": [
    "#print( np.floor(np.asarray(centroid_est) / (6/1000.0)) )\n",
    "\"\"\"\n",
    "    [[ 46.  93.]\n",
    "    [304. 100.]\n",
    "    [339. 208.] # bright stars \n",
    "    [442. 384.]]\n",
    "\"\"\"\n",
    "window_width = 5\n",
    "sub_image = img[209-window_width:209+window_width, 339-window_width:339+window_width+1]\n",
    "plt.figure(1)\n",
    "plt.imshow(sub_image, cmap='gray', interpolation='none' )\n",
    "plt.show()\n"
   ]
  }
 ],
 "metadata": {
  "kernelspec": {
   "display_name": "ML",
   "language": "python",
   "name": "python3"
  },
  "language_info": {
   "codemirror_mode": {
    "name": "ipython",
    "version": 3
   },
   "file_extension": ".py",
   "mimetype": "text/x-python",
   "name": "python",
   "nbconvert_exporter": "python",
   "pygments_lexer": "ipython3",
   "version": "3.11.5"
  }
 },
 "nbformat": 4,
 "nbformat_minor": 2
}
