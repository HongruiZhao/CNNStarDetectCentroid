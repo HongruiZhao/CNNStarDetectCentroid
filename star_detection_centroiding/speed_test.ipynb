{
 "cells": [
  {
   "cell_type": "code",
   "execution_count": 1,
   "metadata": {},
   "outputs": [],
   "source": [
    "import torch\n",
    "import numpy as np\n",
    "import matplotlib.pyplot as plt\n",
    "from matplotlib import colors\n",
    "from evaluation import trilateration_centroid, trilateration_centroid_vectorization\n",
    "from visualization import draw_centroids\n",
    "from torchvision.transforms import Normalize\n",
    "import cv2\n",
    "from conventional_centroiding.threshold_method import centroid_com, detection_globalThreshold, centroiding_CenterOfMass, detection_ST16, centroiding_GaussianGrid, detection_WITM, detection_erosion_dilation"
   ]
  },
  {
   "cell_type": "code",
   "execution_count": 2,
   "metadata": {},
   "outputs": [],
   "source": [
    "device = torch.device(\"cuda:0\")\n",
    "pixel_size = 6/1000\n",
    "radius = 7\n",
    "\n",
    "img_np = np.load('nightsky_june16_2021.npy' )\n",
    "#img_np = cv2.imread('skycam/skycam_1.png', cv2.IMREAD_GRAYSCALE)\n",
    "center = img_np.shape \n",
    "h = 480\n",
    "w = 640\n",
    "x = int(center[1]/2 - w/2)\n",
    "y = int(center[0]/2 - h/2) \n",
    "img_np = img_np[y:y+h, x:x+w]\n",
    "\n",
    "# # for data_straylight\n",
    "# mean = [44.1619381]\n",
    "# std =  [60.98225565]\n",
    "\n",
    "# for data_Oct19\n",
    "mean = [25.36114133]\n",
    "std =  [44.31162568]\n",
    "\n",
    "img = torch.from_numpy(img_np).float()\n",
    "img = img.to(device)\n",
    "img = img.unsqueeze(0)\n",
    "img = img.unsqueeze(0)\n",
    "\n",
    "# get predictions\n",
    "#model = torch.load(\"./saved_models/ELUNet_inter_1.pt\")\n",
    "model = torch.load(\"./saved_models/ELUNet_inter_2_90.pt\")\n",
    "model.eval()\n",
    "\n",
    "prediction = model(Normalize(mean, std)(img)) # only normalize images for neural network so that conventional centroid can use raw images\n",
    "seg_prediction = 1.0 * (torch.sigmoid(prediction[0][0]) > 0.5)\n",
    "seg_prediction = seg_prediction.detach().cpu().numpy()\n",
    "dist_prediction = prediction[0][1]\n",
    "dist_prediction = dist_prediction.detach().cpu().numpy()\n",
    "\n",
    "img = img[0][0].detach().cpu().numpy()"
   ]
  },
  {
   "cell_type": "code",
   "execution_count": 3,
   "metadata": {},
   "outputs": [],
   "source": [
    "# get estimated centroids: machine learning \n",
    "\n",
    "centroid_est_1 = trilateration_centroid(dist_prediction.copy(), seg_prediction.copy(), radius, pixel_size)\n",
    "\n",
    "centroid_est_2 = trilateration_centroid_vectorization(dist_prediction.copy(), seg_prediction.copy(), radius, pixel_size)\n",
    "\n",
    "\n"
   ]
  },
  {
   "cell_type": "code",
   "execution_count": 4,
   "metadata": {},
   "outputs": [
    {
     "name": "stdout",
     "output_type": "stream",
     "text": [
      "116 ms ± 2.34 ms per loop (mean ± std. dev. of 10 runs, 10 loops each)\n"
     ]
    },
    {
     "data": {
      "text/plain": [
       "<TimeitResult : 116 ms ± 2.34 ms per loop (mean ± std. dev. of 10 runs, 10 loops each)>"
      ]
     },
     "execution_count": 4,
     "metadata": {},
     "output_type": "execute_result"
    }
   ],
   "source": [
    "%timeit -o -r 10 trilateration_centroid(dist_prediction.copy(), seg_prediction.copy(), radius, pixel_size)"
   ]
  },
  {
   "cell_type": "code",
   "execution_count": 5,
   "metadata": {},
   "outputs": [
    {
     "name": "stdout",
     "output_type": "stream",
     "text": [
      "4.49 ms ± 131 µs per loop (mean ± std. dev. of 10 runs, 100 loops each)\n"
     ]
    },
    {
     "data": {
      "text/plain": [
       "<TimeitResult : 4.49 ms ± 131 µs per loop (mean ± std. dev. of 10 runs, 100 loops each)>"
      ]
     },
     "execution_count": 5,
     "metadata": {},
     "output_type": "execute_result"
    }
   ],
   "source": [
    "%timeit -o -r 10 trilateration_centroid_vectorization(dist_prediction.copy(), seg_prediction.copy(), radius, pixel_size)"
   ]
  }
 ],
 "metadata": {
  "kernelspec": {
   "display_name": "ML",
   "language": "python",
   "name": "python3"
  },
  "language_info": {
   "codemirror_mode": {
    "name": "ipython",
    "version": 3
   },
   "file_extension": ".py",
   "mimetype": "text/x-python",
   "name": "python",
   "nbconvert_exporter": "python",
   "pygments_lexer": "ipython3",
   "version": "3.11.5"
  }
 },
 "nbformat": 4,
 "nbformat_minor": 2
}
